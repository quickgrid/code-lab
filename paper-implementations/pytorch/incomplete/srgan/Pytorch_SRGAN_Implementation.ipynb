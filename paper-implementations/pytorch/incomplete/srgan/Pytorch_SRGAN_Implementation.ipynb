{
  "nbformat": 4,
  "nbformat_minor": 0,
  "metadata": {
    "colab": {
      "name": "Pytorch SRGAN Implementation.ipynb",
      "provenance": [],
      "collapsed_sections": [],
      "authorship_tag": "ABX9TyMfw49K/gx3DDB2Y4kedwqd",
      "include_colab_link": true
    },
    "kernelspec": {
      "name": "python3",
      "display_name": "Python 3"
    },
    "language_info": {
      "name": "python"
    }
  },
  "cells": [
    {
      "cell_type": "markdown",
      "metadata": {
        "id": "view-in-github",
        "colab_type": "text"
      },
      "source": [
        "<a href=\"https://colab.research.google.com/github/quickgrid/AI-Resources/blob/master/paper-implementations/pytorch/srgan/Pytorch_SRGAN_Implementation.ipynb\" target=\"_parent\"><img src=\"https://colab.research.google.com/assets/colab-badge.svg\" alt=\"Open In Colab\"/></a>"
      ]
    },
    {
      "cell_type": "markdown",
      "metadata": {
        "id": "DgUBldhqOtN_"
      },
      "source": [
        "### References\n",
        "- https://www.youtube.com/watch?v=7FO9qDOhRCc"
      ]
    },
    {
      "cell_type": "code",
      "metadata": {
        "id": "_tYD9-d92YQM"
      },
      "source": [
        "import torch\n",
        "from torch import nn\n",
        "\n",
        "\n",
        "class ConvBlock(nn.Module):\n",
        "    def __init__(\n",
        "            self,\n",
        "            in_channels,\n",
        "            out_channels,\n",
        "            discriminator=False,\n",
        "            use_activation=True,\n",
        "            use_bn=True,\n",
        "            **kwargs\n",
        "    ):\n",
        "        super(ConvBlock, self).__init__()\n",
        "\n",
        "        self.use_activation = use_activation\n",
        "        self.conv = nn.Conv2d(in_channels=in_channels, out_channels=out_channels, **kwargs, bias=not use_bn)\n",
        "        self.bn = nn.BatchNorm2d(num_features=out_channels) if use_bn else nn.Identity()\n",
        "\n",
        "        # Section 2.1 explains leaky relu slope amount.\n",
        "        # Based on Figure 4, leaky relu is applied only is discriminator and prelu in generator.\n",
        "        self.act = (\n",
        "            nn.LeakyReLU(negative_slope=0.2, inplace=True) if discriminator\n",
        "            else nn.PReLU(num_parameters=out_channels)\n",
        "        )\n",
        "\n",
        "    def forward(self, X):\n",
        "        return self.act(self.bn(self.conv(X))) if self.use_activation else self.bn(self.act(X))\n",
        "\n",
        "\n",
        "class UpSampleBlock(nn.Module):\n",
        "    def __init__(\n",
        "        self,\n",
        "        in_channels,\n",
        "        scale_factor,\n",
        "    ):\n",
        "        super(UpSampleBlock, self).__init__()\n",
        "        self.conv = nn.Conv2d(in_channels=in_channels, out_channels=in_channels * (scale_factor ** 2), kernel_size=3, stride=1, padding=1)\n",
        "        self.pixel_shuffle = nn.PixelShuffle(scale_factor)\n",
        "        self.activation = nn.PReLU(num_parameters=in_channels)\n",
        "    \n",
        "    def forward(self, X):\n",
        "        return self.activation(self.pixel_shuffle(self.conv(X)))\n",
        "\n",
        "\n",
        "class ResidualBlock(nn.Module):\n",
        "    def __init__(\n",
        "        self,\n",
        "        in_channels\n",
        "    ):\n",
        "        super(ResidualBlock, self).__init__()\n",
        "\n",
        "        self.block1 = ConvBlock(\n",
        "            in_channels=in_channels,\n",
        "            out_channels=in_channels,\n",
        "            discriminator=False,\n",
        "            use_activation=True,\n",
        "            use_bn=True,\n",
        "            kernel_size=3,\n",
        "            stride=1,\n",
        "            padding=1\n",
        "        )\n",
        "        self.block2 = ConvBlock(\n",
        "            in_channels=in_channels,\n",
        "            out_channels=in_channels,\n",
        "            discriminator=False,\n",
        "            use_activation=False,\n",
        "            use_bn=True,\n",
        "            kernel_size=3,\n",
        "            stride=1,\n",
        "            padding=1\n",
        "        )\n",
        "    \n",
        "    def forward(self, X):\n",
        "        out = self.block1(X)\n",
        "        out = self.block2(out)\n",
        "        return X + out\n",
        "\n",
        "\n",
        "\n",
        "class Generator(nn.Module):\n",
        "    def __init__(\n",
        "        self,\n",
        "        in_channels=3,\n",
        "        num_channels=64,\n",
        "        num_blocks=16,\n",
        "        \n",
        "    ):\n",
        "        super(Generator, self).__init__()\n",
        "\n",
        "        self.initial = ConvBlock(in_channels=in_channels, out_channels=num_channels, kernel_size=9, stride=1, padding=4, use_bn=False)\n",
        "        self.residuals = nn.Sequential(*[ResidualBlock(in_channels=num_channels) for _ in range(num_blocks)])\n",
        "        self.conv_block = ConvBlock(\n",
        "            in_channels=num_channels,\n",
        "            out_channels=num_channels,\n",
        "            discriminator=False,\n",
        "            use_activation=False,\n",
        "            use_bn=True,\n",
        "            kernel_size=3,\n",
        "            stride=1,\n",
        "            padding=1\n",
        "        )\n",
        "        self.upsamples = nn.Sequential(\n",
        "            UpSampleBlock(in_channels=num_channels, scale_factor=2),\n",
        "            UpSampleBlock(in_channels=num_channels, scale_factor=2),\n",
        "        )\n",
        "        self.final = nn.Conv2d(in_channels=num_channels, out_channels=in_channels, kernel_size=9, stride=1, padding=4)\n",
        "    \n",
        "    def forward(self, X):\n",
        "        initial = self.initial(X)\n",
        "        X = self.residuals(initial)\n",
        "        X = self.conv_block(X)\n",
        "        X = initial + X\n",
        "        X = self.upsamples(X)\n",
        "        X = self.final(X)\n",
        "        return torch.tanh(X)\n",
        "\n",
        "\n",
        "class Discriminator(nn.Module):\n",
        "    def __init__(\n",
        "        self,\n",
        "        in_channels=3,\n",
        "        features=[64, 64, 128, 128, 256, 256, 512, 512]\n",
        "    ):\n",
        "        super(Discriminator, self).__init__()\n",
        "\n",
        "        blocks = []\n",
        "        for idx, feature in enumerate(features):\n",
        "            blocks.append(\n",
        "                ConvBlock(\n",
        "                    in_channels=in_channels,\n",
        "                    out_channels=feature,\n",
        "                    discriminator=True,\n",
        "                    use_activation=True,\n",
        "                    use_bn=False if idx == 0 else True,\n",
        "                    kernel_size=3,\n",
        "                    padding=1,\n",
        "                    stride=1 + idx % 2\n",
        "                )\n",
        "            )\n",
        "            in_channels = feature\n",
        "\n",
        "        self.blocks = nn.Sequential(*blocks)\n",
        "        self.classifier = nn.Sequential(\n",
        "            nn.AdaptiveAvgPool2d(output_size=(6, 6)),\n",
        "            nn.Flatten(),\n",
        "            nn.Linear(in_features=512 * 6 * 6, out_features=1024),\n",
        "            nn.LeakyReLU(negative_slope=0.2, inplace=True),\n",
        "            nn.Linear(in_features=1024, out_features=1),\n",
        "        )\n",
        "\n",
        "    def forward(self, X):\n",
        "        X = self.blocks(X)\n",
        "        X = self.classifier(X)\n",
        "        return X"
      ],
      "execution_count": null,
      "outputs": []
    },
    {
      "cell_type": "code",
      "metadata": {
        "id": "9xGBh3-7LmXP"
      },
      "source": [
        "def test():\n",
        "    low_resolution = 30\n",
        "\n",
        "    with torch.cuda.amp.autocast():\n",
        "        X = torch.randn((5, 3, low_resolution, low_resolution))\n",
        "        gen = Generator()\n",
        "        gen_out = gen(X)\n",
        "        disc = Discriminator()\n",
        "        disc_out = disc(gen_out)\n",
        "\n",
        "        print(gen_out.shape)\n",
        "        print(disc_out.shape)"
      ],
      "execution_count": null,
      "outputs": []
    },
    {
      "cell_type": "code",
      "metadata": {
        "colab": {
          "base_uri": "https://localhost:8080/"
        },
        "id": "f-H9KXULLf31",
        "outputId": "aeab110d-2138-4c2c-a9ac-cd3f151865f2"
      },
      "source": [
        "if __name__ == \"__main__\":\n",
        "    test()"
      ],
      "execution_count": null,
      "outputs": [
        {
          "output_type": "stream",
          "name": "stderr",
          "text": [
            "/usr/local/lib/python3.7/dist-packages/torch/cuda/amp/autocast_mode.py:120: UserWarning: torch.cuda.amp.autocast only affects CUDA ops, but CUDA is not available.  Disabling.\n",
            "  warnings.warn(\"torch.cuda.amp.autocast only affects CUDA ops, but CUDA is not available.  Disabling.\")\n"
          ]
        },
        {
          "output_type": "stream",
          "name": "stdout",
          "text": [
            "torch.Size([5, 3, 120, 120])\n",
            "torch.Size([5, 1])\n"
          ]
        }
      ]
    },
    {
      "cell_type": "code",
      "metadata": {
        "id": "f3F19DB7Mutd"
      },
      "source": [
        ""
      ],
      "execution_count": null,
      "outputs": []
    },
    {
      "cell_type": "code",
      "metadata": {
        "id": "RK9p7gLcCtD5"
      },
      "source": [
        "import torch.nn as nn\n",
        "from torchvision.models import vgg19\n",
        "\n",
        "\n",
        "class VGGLoss(nn.Module):\n",
        "    def __init__(\n",
        "        self,\n",
        "        device\n",
        "    ):\n",
        "        super(VGGLoss, self).__init__()\n",
        "\n",
        "        # Before the 4th convolution and 5th maxpooling in the 36th layer.\n",
        "        # The 37th layer is another maxpooling but it is not in phi_i_j = phi_4_5.\n",
        "        self.vgg = vgg19(pretrained=True).features[:36].eval(device)\n",
        "\n",
        "        # Pixelwise MSE Loss\n",
        "        self.loss = nn.MSELoss()\n",
        "\n",
        "        # Vgg should not be trained, so no need to update weights.\n",
        "        for param in self.vgg.parameters():\n",
        "            param.requires_grad = False\n",
        "\n",
        "    def forward(self, input, target):\n",
        "        vgg_input_features = self.vgg(input)\n",
        "        vgg_target_features = self.vgg(target)\n",
        "        \n",
        "        # Equation 5, VGG Loss implementation.\n",
        "        return self.loss(vgg_input_features, vgg_target_features)\n"
      ],
      "execution_count": 1,
      "outputs": []
    },
    {
      "cell_type": "code",
      "metadata": {
        "id": "NfnKDgkwDSUX"
      },
      "source": [
        "import os\n",
        "import numpy\n",
        "from torch.utils.data import DataLoader, Dataset\n",
        "from PIL import Image\n",
        "\n",
        "\n",
        "class MyImageDataset(Dataset):\n",
        "    def __init__(\n",
        "        self,\n",
        "        root_dir\n",
        "    ):\n",
        "        super(MyImageDataset, self).__init__()\n",
        "        self.data = []\n",
        "        self.root_dir = root_dir\n",
        "        self.class_names = os.listdir(rootdir)\n",
        "\n",
        "        for idx, names in enumerate(self.class_names):\n",
        "            file_names = os.listdir(os.path.join(root_dir, names))\n",
        "            self.data.append(list(zip(file_names, [idx] * len(file_names))))\n",
        "\n",
        "    \n",
        "    def __len__(self):\n",
        "        return len(self.data)\n",
        "\n",
        "    def __getitem__(self, index):\n",
        "        img_file, label = self.data[index]\n",
        "        image_class_dir_path = os.path.join(self.root_dir, self.class_names[label])\n",
        "\n",
        "        image = np.array(Image.open(os.path.join(image_class_dir_path, img_file)))\n",
        "        image = "
      ],
      "execution_count": null,
      "outputs": []
    },
    {
      "cell_type": "code",
      "metadata": {
        "id": "Cu3yi9-5ITBP"
      },
      "source": [
        ""
      ],
      "execution_count": null,
      "outputs": []
    }
  ]
}