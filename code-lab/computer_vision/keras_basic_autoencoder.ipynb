{
  "nbformat": 4,
  "nbformat_minor": 0,
  "metadata": {
    "colab": {
      "name": "Copy of Autoencoder Tutorial",
      "provenance": [],
      "collapsed_sections": []
    },
    "kernelspec": {
      "name": "python3",
      "display_name": "Python 3"
    },
    "accelerator": "GPU"
  },
  "cells": [
    {
      "cell_type": "markdown",
      "metadata": {
        "id": "kjyD-DOY3BtL",
        "colab_type": "text"
      },
      "source": [
        "Code based on, https://towardsdatascience.com/how-to-make-an-autoencoder-2f2d99cd5103"
      ]
    },
    {
      "cell_type": "code",
      "metadata": {
        "id": "DTx2WHBdDuC1",
        "colab_type": "code",
        "colab": {}
      },
      "source": [
        "#!pip install tensorflow-gpu\n",
        "from tensorflow.keras.datasets import mnist\n",
        "from tensorflow.keras.layers import Dense, Input, Flatten,\\\n",
        "                                    Reshape, LeakyReLU as LR,\\\n",
        "                                    Activation, Dropout, Conv2D, MaxPooling2D, BatchNormalization\n",
        "from tensorflow.keras.models import Model, Sequential\n",
        "from matplotlib import pyplot as plt\n",
        "from IPython import display # If using IPython, Colab or Jupyter\n",
        "import numpy as np"
      ],
      "execution_count": 7,
      "outputs": []
    },
    {
      "cell_type": "code",
      "metadata": {
        "id": "L0XybKJyEJIR",
        "colab_type": "code",
        "colab": {
          "base_uri": "https://localhost:8080/",
          "height": 265
        },
        "outputId": "9fd6ce03-65b6-40e5-cd9d-c94df04f748c"
      },
      "source": [
        "(x_train, y_train), (x_test, y_test) = mnist.load_data()\n",
        "x_train = x_train/255.0\n",
        "x_test = x_test/255.0\n",
        "# Plot image data from x_train\n",
        "plt.imshow(x_train[0], cmap = \"gray\")\n",
        "plt.show()"
      ],
      "execution_count": 8,
      "outputs": [
        {
          "output_type": "display_data",
          "data": {
            "image/png": "[encoded data removed]",
            "text/plain": [
              "<Figure size 432x288 with 1 Axes>"
            ]
          },
          "metadata": {
            "tags": [],
            "needs_background": "light"
          }
        }
      ]
    },
    {
      "cell_type": "code",
      "metadata": {
        "id": "-tm9gLzMDw6S",
        "colab_type": "code",
        "colab": {}
      },
      "source": [
        "LATENT_SIZE = 16\n",
        "encoder = Sequential([\n",
        "    Flatten(input_shape = (28, 28)),\n",
        "    Dense(512),\n",
        "    LR(),\n",
        "    Dropout(0.5),\n",
        "    Dense(256),\n",
        "    LR(),\n",
        "    Dropout(0.5),\n",
        "    Dense(128),\n",
        "    LR(),\n",
        "    Dropout(0.5),\n",
        "    Dense(64),\n",
        "    LR(),\n",
        "    Dropout(0.5),\n",
        "    Dense(LATENT_SIZE, activation=\"sigmoid\"),\n",
        "])"
      ],
      "execution_count": 26,
      "outputs": []
    },
    {
      "cell_type": "code",
      "metadata": {
        "id": "x8EF9fQXDzSW",
        "colab_type": "code",
        "colab": {}
      },
      "source": [
        "decoder = Sequential([\n",
        "    Dense(64, input_shape = (LATENT_SIZE,)),\n",
        "    LR(),\n",
        "    Dropout(0.5),\n",
        "    Dense(128),\n",
        "    LR(),\n",
        "    Dropout(0.5),\n",
        "    Dense(256),\n",
        "    LR(),\n",
        "    Dropout(0.5),\n",
        "    Dense(512),\n",
        "    LR(),\n",
        "    Dropout(0.5),\n",
        "    Dense(784),\n",
        "    Activation(\"sigmoid\"),\n",
        "    Reshape((28, 28))\n",
        "])"
      ],
      "execution_count": 25,
      "outputs": []
    },
    {
      "cell_type": "code",
      "metadata": {
        "id": "GOil9ltcD0si",
        "colab_type": "code",
        "colab": {}
      },
      "source": [
        "img = Input(shape = (28, 28))\n",
        "latent_vector = encoder(img)\n",
        "output = decoder(latent_vector)\n",
        "model = Model(inputs = img, outputs = output)\n",
        "model.compile(\"nadam\", loss = \"binary_crossentropy\")"
      ],
      "execution_count": 27,
      "outputs": []
    },
    {
      "cell_type": "code",
      "metadata": {
        "id": "oPNygUJ4OK6B",
        "colab_type": "code",
        "colab": {
          "base_uri": "https://localhost:8080/",
          "height": 252
        },
        "outputId": "8b83804e-b27e-405e-c768-5e691994f6d0"
      },
      "source": [
        "model.summary()"
      ],
      "execution_count": null,
      "outputs": [
        {
          "output_type": "stream",
          "text": [
            "Model: \"functional_3\"\n",
            "_________________________________________________________________\n",
            "Layer (type)                 Output Shape              Param #   \n",
            "=================================================================\n",
            "input_2 (InputLayer)         [(None, 28, 28)]          0         \n",
            "_________________________________________________________________\n",
            "sequential_4 (Sequential)    (None, 16)                575440    \n",
            "_________________________________________________________________\n",
            "sequential_6 (Sequential)    (None, 56, 56)            1782784   \n",
            "=================================================================\n",
            "Total params: 2,358,224\n",
            "Trainable params: 2,358,224\n",
            "Non-trainable params: 0\n",
            "_________________________________________________________________\n"
          ],
          "name": "stdout"
        }
      ]
    },
    {
      "cell_type": "code",
      "metadata": {
        "id": "X2Zh7AxJYrCe",
        "colab_type": "code",
        "colab": {}
      },
      "source": [
        "# filepath = \"mns.ckpt\"\n",
        "# checkpoint = keras.callbacks.ModelCheckpoint(filepath, save_weights_only=True, verbose=1)"
      ],
      "execution_count": null,
      "outputs": []
    },
    {
      "cell_type": "code",
      "metadata": {
        "id": "78YfridJd8am",
        "colab_type": "code",
        "colab": {}
      },
      "source": [
        "## load previous model\n",
        "# from tensorflow import keras\n",
        "# loaded_model = keras.models.load_model('mnist_autoencoder.h5')\n",
        "# model = loaded_model"
      ],
      "execution_count": null,
      "outputs": []
    },
    {
      "cell_type": "code",
      "metadata": {
        "id": "ewXzkdbPD3HL",
        "colab_type": "code",
        "collapsed": true,
        "colab": {
          "base_uri": "https://localhost:8080/",
          "height": 228
        },
        "outputId": "6a4f33ad-5d6b-451d-d9a8-4ab1f5b68f52"
      },
      "source": [
        "EPOCHS = 30\n",
        "TRAIN_BATCH_SIZE = 512\n",
        "FIG_COUNT = 3\n",
        "FIG_COUNT_SQUARE = FIG_COUNT * FIG_COUNT\n",
        "\n",
        "#Only do plotting if you have IPython, Jupyter, or using Colab\n",
        "for epoch in range(EPOCHS):\n",
        "    fig, axs = plt.subplots(FIG_COUNT, FIG_COUNT, figsize=(FIG_COUNT,FIG_COUNT))\n",
        "    rand = x_test[np.random.randint(0, 10000, FIG_COUNT_SQUARE)].reshape((FIG_COUNT, FIG_COUNT, 1, 28, 28))\n",
        "    \n",
        "    display.clear_output() # If you imported display from IPython\n",
        "    \n",
        "    for i in range(FIG_COUNT):\n",
        "        for j in range(FIG_COUNT):\n",
        "            axs[i, j].imshow(model.predict(rand[i, j])[0], cmap = \"gray\")\n",
        "            axs[i, j].axis(\"off\")\n",
        "    \n",
        "    plt.subplots_adjust(wspace = 0.2, hspace = 0.2)\n",
        "    plt.show()\n",
        "    print(\"-----------\", \"EPOCH\", epoch, \"-----------\")\n",
        "    model.fit(x_train, x_train, batch_size = TRAIN_BATCH_SIZE)\n",
        "    #loaded_model.fit(x_train, x_train, batch_size = TRAIN_BATCH_SIZE, callbacks=[checkpoint])\n",
        "\n",
        "\n",
        "\n"
      ],
      "execution_count": 28,
      "outputs": [
        {
          "output_type": "display_data",
          "data": {
            "image/png": "[encoded data removed]",
            "text/plain": [
              "<Figure size 216x216 with 9 Axes>"
            ]
          },
          "metadata": {
            "tags": [],
            "needs_background": "light"
          }
        },
        {
          "output_type": "stream",
          "text": [
            "----------- EPOCH 29 -----------\n",
            "118/118 [==============================] - 2s 16ms/step - loss: 0.1870\n"
          ],
          "name": "stdout"
        }
      ]
    },
    {
      "cell_type": "code",
      "metadata": {
        "id": "VBJvHcV0NpUx",
        "colab_type": "code",
        "colab": {}
      },
      "source": [
        "## Save and reload model for inference\n",
        "## Alternate saving method `tf.keras.models.save_model()`\n",
        "model.save('mnist_autoencoder.h5')\n",
        "\n",
        "from tensorflow import keras\n",
        "loaded_model = keras.models.load_model('mnist_autoencoder.h5')"
      ],
      "execution_count": 29,
      "outputs": []
    },
    {
      "cell_type": "code",
      "metadata": {
        "id": "r1HhW-IuQ4QB",
        "colab_type": "code",
        "colab": {
          "base_uri": "https://localhost:8080/",
          "height": 1000
        },
        "outputId": "29f91a78-7217-40d5-d6de-d46785a16376"
      },
      "source": [
        "## Predict with model\n",
        "#plt.imshow(model.predict(x_test[10].reshape(1,28,28))[0], cmap = \"gray\")\n",
        "#plt.show()\n",
        "\n",
        "\n",
        "random_test_image = x_test[10].reshape(1,28,28)\n",
        "\n",
        "\n",
        "## Show decoded image\n",
        "print(encoder(random_test_image))\n",
        "decoded_image = decoder(encoder(random_test_image))\n",
        "print(decoded_image.shape)\n",
        "plt.imshow(np.squeeze(decoded_image), cmap = \"gray\")\n",
        "plt.show()\n",
        "\n",
        "\n",
        "## Passing a random tensor to decoder to generate random output\n",
        "arr = keras.backend.constant([[1,2,3,4,5,6,7,8,9,0,1,2,3,4,5,6]])\n",
        "decoded_image = decoder(arr)\n",
        "print(decoded_image.shape)\n",
        "plt.imshow(np.squeeze(decoded_image), cmap = \"gray\")\n",
        "plt.show()\n",
        "\n",
        "\n",
        "## Predict from saved and loaded model\n",
        "plt.imshow(loaded_model.predict(random_test_image)[0], cmap = \"gray\")\n",
        "plt.show()\n",
        "\n",
        "\n",
        "## Show original image\n",
        "plt.imshow(x_test[10], cmap = \"gray\")\n",
        "plt.show()"
      ],
      "execution_count": 39,
      "outputs": [
        {
          "output_type": "stream",
          "text": [
            "tf.Tensor(\n",
            "[[4.54799794e-02 2.02901840e-01 2.31076613e-01 1.00000000e+00\n",
            "  7.01922865e-04 5.18236719e-02 4.56624717e-01 4.51514591e-03\n",
            "  1.35064676e-01 1.03125066e-01 7.51049519e-01 8.36327225e-02\n",
            "  1.18075041e-04 8.81486610e-02 3.99681568e-01 5.24762988e-01]], shape=(1, 16), dtype=float32)\n",
            "(1, 28, 28)\n"
          ],
          "name": "stdout"
        },
        {
          "output_type": "display_data",
          "data": {
            "image/png": "[encoded data removed]",
            "text/plain": [
              "<Figure size 432x288 with 1 Axes>"
            ]
          },
          "metadata": {
            "tags": [],
            "needs_background": "light"
          }
        },
        {
          "output_type": "stream",
          "text": [
            "(1, 28, 28)\n"
          ],
          "name": "stdout"
        },
        {
          "output_type": "display_data",
          "data": {
            "image/png": "[encoded data removed]",
            "text/plain": [
              "<Figure size 432x288 with 1 Axes>"
            ]
          },
          "metadata": {
            "tags": [],
            "needs_background": "light"
          }
        },
        {
          "output_type": "display_data",
          "data": {
            "image/png": "[encoded data removed]",
            "text/plain": [
              "<Figure size 432x288 with 1 Axes>"
            ]
          },
          "metadata": {
            "tags": [],
            "needs_background": "light"
          }
        },
        {
          "output_type": "display_data",
          "data": {
            "image/png": "[encoded data removed]",
            "text/plain": [
              "<Figure size 432x288 with 1 Axes>"
            ]
          },
          "metadata": {
            "tags": [],
            "needs_background": "light"
          }
        }
      ]
    },
    {
      "cell_type": "code",
      "metadata": {
        "id": "7WVzGvnyyA5r",
        "colab_type": "code",
        "colab": {
          "base_uri": "https://localhost:8080/",
          "height": 1000
        },
        "outputId": "a100875f-2bab-4206-9979-f94ae223d658"
      },
      "source": [
        "## Load custom drawn image and show its encoding and predicted output\n",
        "import cv2 as cv\n",
        "\n",
        "\n",
        "custom_image = cv.imread(\"resources/two.jpg\", 0)\n",
        "\n",
        "\n",
        "custom_image = np.invert(custom_image)\n",
        "#print(custom_image.shape)\n",
        "#print(custom_image)\n",
        "\n",
        "\n",
        "#custom_image = np.array(custom_image) / 255.0\n",
        "#custom_image = custom_image / 255.0\n",
        "custom_image = custom_image.reshape(1,28,28)\n",
        "\n",
        "print(custom_image.shape)\n",
        "#print(custom_image)\n",
        "\n",
        "plt.imshow(custom_image.reshape((28,28)), cmap = \"gray\")\n",
        "plt.show()\n",
        "\n",
        "\n",
        "## Show decoded image\n",
        "print(encoder(custom_image))\n",
        "decoded_image = decoder(encoder(custom_image))\n",
        "print(decoded_image.shape)\n",
        "plt.imshow(np.squeeze(decoded_image), cmap = \"gray\")\n",
        "plt.show()\n",
        "\n",
        "\n",
        "\n",
        "#custom_image = cv.rotate(custom_image, cv.ROTATE_180)\n",
        "custom_image = cv.flip(custom_image, -1)\n",
        "#custom_image = cv.flip(custom_image, 1)\n",
        "\n",
        "plt.imshow(custom_image.reshape((28,28)), cmap = \"gray\")\n",
        "plt.show()\n",
        "\n",
        "\n",
        "## Show decoded image\n",
        "print(encoder(custom_image))\n",
        "decoded_image = decoder(encoder(custom_image))\n",
        "print(decoded_image.shape)\n",
        "plt.imshow(np.squeeze(decoded_image), cmap = \"gray\")\n",
        "plt.show()\n"
      ],
      "execution_count": 41,
      "outputs": [
        {
          "output_type": "stream",
          "text": [
            "(1, 28, 28)\n"
          ],
          "name": "stdout"
        },
        {
          "output_type": "display_data",
          "data": {
            "image/png": "[encoded data removed]",
            "text/plain": [
              "<Figure size 432x288 with 1 Axes>"
            ]
          },
          "metadata": {
            "tags": [],
            "needs_background": "light"
          }
        },
        {
          "output_type": "stream",
          "text": [
            "tf.Tensor(\n",
            "[[6.1301016e-19 1.0000000e+00 0.0000000e+00 1.0000000e+00 3.2320729e-20\n",
            "  0.0000000e+00 0.0000000e+00 1.0000000e+00 1.9813085e-38 7.1888851e-26\n",
            "  1.0000000e+00 0.0000000e+00 1.0000000e+00 1.0000000e+00 1.3276450e-01\n",
            "  0.0000000e+00]], shape=(1, 16), dtype=float32)\n",
            "(1, 28, 28)\n"
          ],
          "name": "stdout"
        },
        {
          "output_type": "display_data",
          "data": {
            "image/png": "[encoded data removed]",
            "text/plain": [
              "<Figure size 432x288 with 1 Axes>"
            ]
          },
          "metadata": {
            "tags": [],
            "needs_background": "light"
          }
        },
        {
          "output_type": "display_data",
          "data": {
            "image/png": "[encoded data removed]",
            "text/plain": [
              "<Figure size 432x288 with 1 Axes>"
            ]
          },
          "metadata": {
            "tags": [],
            "needs_background": "light"
          }
        },
        {
          "output_type": "stream",
          "text": [
            "tf.Tensor(\n",
            "[[0.0000000e+00 5.1071951e-05 0.0000000e+00 1.0000000e+00 1.0000000e+00\n",
            "  0.0000000e+00 0.0000000e+00 1.0000000e+00 1.1827306e-26 0.0000000e+00\n",
            "  0.0000000e+00 0.0000000e+00 0.0000000e+00 1.4118912e-20 1.2413526e-08\n",
            "  1.0000000e+00]], shape=(1, 16), dtype=float32)\n",
            "(1, 28, 28)\n"
          ],
          "name": "stdout"
        },
        {
          "output_type": "display_data",
          "data": {
            "image/png": "[encoded data removed]",
            "text/plain": [
              "<Figure size 432x288 with 1 Axes>"
            ]
          },
          "metadata": {
            "tags": [],
            "needs_background": "light"
          }
        }
      ]
    },
    {
      "cell_type": "code",
      "metadata": {
        "id": "pQ2f4SCOJx4I",
        "colab_type": "code",
        "colab": {}
      },
      "source": [
        "## Install latest opencv, which was 4.4.0 on last run\n",
        "#!pip install opencv-python --upgrade\n",
        "#!pip install opencv-contrib-python --upgrade"
      ],
      "execution_count": null,
      "outputs": []
    },
    {
      "cell_type": "code",
      "metadata": {
        "id": "yv-WHyYG7V2h",
        "colab_type": "code",
        "colab": {
          "base_uri": "https://localhost:8080/",
          "height": 34
        },
        "outputId": "865af912-acb2-4625-f243-455ac9555ebe"
      },
      "source": [
        "import cv2 as cv\n",
        "print(cv.__version__)"
      ],
      "execution_count": 42,
      "outputs": [
        {
          "output_type": "stream",
          "text": [
            "4.1.2\n"
          ],
          "name": "stdout"
        }
      ]
    }
  ]
}