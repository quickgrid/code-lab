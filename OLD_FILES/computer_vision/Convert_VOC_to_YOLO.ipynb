{
  "nbformat": 4,
  "nbformat_minor": 0,
  "metadata": {
    "colab": {
      "name": "Convert VOC to YOLO.ipynb",
      "provenance": [],
      "collapsed_sections": [],
      "authorship_tag": "ABX9TyMG+6hVVbOf0bcN1K4P+LP/",
      "include_colab_link": true
    },
    "kernelspec": {
      "name": "python3",
      "display_name": "Python 3"
    }
  },
  "cells": [
    {
      "cell_type": "markdown",
      "metadata": {
        "id": "view-in-github",
        "colab_type": "text"
      },
      "source": [
        "<a href=\"https://colab.research.google.com/github/quickgrid/CodeLab/blob/master/computer_vision/Convert_VOC_to_YOLO.ipynb\" target=\"_parent\"><img src=\"https://colab.research.google.com/assets/colab-badge.svg\" alt=\"Open In Colab\"/></a>"
      ]
    },
    {
      "cell_type": "markdown",
      "metadata": {
        "id": "CZp4dNl5-Sa0"
      },
      "source": [
        "## Install convert2Yolo"
      ]
    },
    {
      "cell_type": "code",
      "metadata": {
        "id": "w5xCzTiasJSA",
        "outputId": "7ffac78e-d6f0-436b-aaad-b57896982093",
        "colab": {
          "base_uri": "https://localhost:8080/",
          "height": 134
        }
      },
      "source": [
        "!git clone https://github.com/ssaru/convert2Yolo"
      ],
      "execution_count": 19,
      "outputs": [
        {
          "output_type": "stream",
          "text": [
            "Cloning into 'convert2Yolo'...\n",
            "remote: Enumerating objects: 14, done.\u001b[K\n",
            "remote: Counting objects: 100% (14/14), done.\u001b[K\n",
            "remote: Compressing objects: 100% (10/10), done.\u001b[K\n",
            "remote: Total 215 (delta 4), reused 6 (delta 4), pack-reused 201\u001b[K\n",
            "Receiving objects: 100% (215/215), 1002.72 KiB | 2.32 MiB/s, done.\n",
            "Resolving deltas: 100% (89/89), done.\n"
          ],
          "name": "stdout"
        }
      ]
    },
    {
      "cell_type": "code",
      "metadata": {
        "id": "5VZiy-ypsPtP",
        "outputId": "40c65810-53f1-4535-a636-ed26744281f9",
        "colab": {
          "base_uri": "https://localhost:8080/",
          "height": 34
        }
      },
      "source": [
        "%cd /content/convert2Yolo/"
      ],
      "execution_count": 20,
      "outputs": [
        {
          "output_type": "stream",
          "text": [
            "/content/convert2Yolo\n"
          ],
          "name": "stdout"
        }
      ]
    },
    {
      "cell_type": "code",
      "metadata": {
        "id": "47mLTxEPsOU9",
        "outputId": "134930d7-c27c-4b20-966b-2d9f2238693a",
        "colab": {
          "base_uri": "https://localhost:8080/",
          "height": 1000
        }
      },
      "source": [
        "## DO NOT RESTART RUNTIME. IT WILL CRASH.\n",
        "\n",
        "!pip install -r requirements.txt"
      ],
      "execution_count": null,
      "outputs": [
        {
          "output_type": "stream",
          "text": [
            "Collecting Pillow==7.2.0\n",
            "\u001b[?25l  Downloading https://files.pythonhosted.org/packages/30/bf/92385b4262178ca22b34f82e0e09c2922eb351fe39f3cc7b8ba9ea555b41/Pillow-7.2.0-cp36-cp36m-manylinux1_x86_64.whl (2.2MB)\n",
            "\r\u001b[K     |▏                               | 10kB 21.4MB/s eta 0:00:01\r\u001b[K     |▎                               | 20kB 5.6MB/s eta 0:00:01\r\u001b[K     |▌                               | 30kB 5.7MB/s eta 0:00:01\r\u001b[K     |▋                               | 40kB 7.3MB/s eta 0:00:01\r\u001b[K     |▊                               | 51kB 6.0MB/s eta 0:00:01\r\u001b[K     |█                               | 61kB 6.6MB/s eta 0:00:01\r\u001b[K     |█                               | 71kB 7.6MB/s eta 0:00:01\r\u001b[K     |█▏                              | 81kB 7.6MB/s eta 0:00:01\r\u001b[K     |█▍                              | 92kB 7.9MB/s eta 0:00:01\r\u001b[K     |█▌                              | 102kB 8.1MB/s eta 0:00:01\r\u001b[K     |█▋                              | 112kB 8.1MB/s eta 0:00:01\r\u001b[K     |█▉                              | 122kB 8.1MB/s eta 0:00:01\r\u001b[K     |██                              | 133kB 8.1MB/s eta 0:00:01\r\u001b[K     |██                              | 143kB 8.1MB/s eta 0:00:01\r\u001b[K     |██▎                             | 153kB 8.1MB/s eta 0:00:01\r\u001b[K     |██▍                             | 163kB 8.1MB/s eta 0:00:01\r\u001b[K     |██▌                             | 174kB 8.1MB/s eta 0:00:01\r\u001b[K     |██▊                             | 184kB 8.1MB/s eta 0:00:01\r\u001b[K     |██▉                             | 194kB 8.1MB/s eta 0:00:01\r\u001b[K     |███                             | 204kB 8.1MB/s eta 0:00:01\r\u001b[K     |███▏                            | 215kB 8.1MB/s eta 0:00:01\r\u001b[K     |███▎                            | 225kB 8.1MB/s eta 0:00:01\r\u001b[K     |███▍                            | 235kB 8.1MB/s eta 0:00:01\r\u001b[K     |███▋                            | 245kB 8.1MB/s eta 0:00:01\r\u001b[K     |███▊                            | 256kB 8.1MB/s eta 0:00:01\r\u001b[K     |███▉                            | 266kB 8.1MB/s eta 0:00:01\r\u001b[K     |████                            | 276kB 8.1MB/s eta 0:00:01\r\u001b[K     |████▏                           | 286kB 8.1MB/s eta 0:00:01\r\u001b[K     |████▍                           | 296kB 8.1MB/s eta 0:00:01\r\u001b[K     |████▌                           | 307kB 8.1MB/s eta 0:00:01\r\u001b[K     |████▋                           | 317kB 8.1MB/s eta 0:00:01\r\u001b[K     |████▉                           | 327kB 8.1MB/s eta 0:00:01\r\u001b[K     |█████                           | 337kB 8.1MB/s eta 0:00:01\r\u001b[K     |█████                           | 348kB 8.1MB/s eta 0:00:01\r\u001b[K     |█████▎                          | 358kB 8.1MB/s eta 0:00:01\r\u001b[K     |█████▍                          | 368kB 8.1MB/s eta 0:00:01\r\u001b[K     |█████▌                          | 378kB 8.1MB/s eta 0:00:01\r\u001b[K     |█████▊                          | 389kB 8.1MB/s eta 0:00:01\r\u001b[K     |█████▉                          | 399kB 8.1MB/s eta 0:00:01\r\u001b[K     |██████                          | 409kB 8.1MB/s eta 0:00:01\r\u001b[K     |██████▏                         | 419kB 8.1MB/s eta 0:00:01\r\u001b[K     |██████▎                         | 430kB 8.1MB/s eta 0:00:01\r\u001b[K     |██████▍                         | 440kB 8.1MB/s eta 0:00:01\r\u001b[K     |██████▋                         | 450kB 8.1MB/s eta 0:00:01\r\u001b[K     |██████▊                         | 460kB 8.1MB/s eta 0:00:01\r\u001b[K     |██████▉                         | 471kB 8.1MB/s eta 0:00:01\r\u001b[K     |███████                         | 481kB 8.1MB/s eta 0:00:01\r\u001b[K     |███████▏                        | 491kB 8.1MB/s eta 0:00:01\r\u001b[K     |███████▎                        | 501kB 8.1MB/s eta 0:00:01\r\u001b[K     |███████▌                        | 512kB 8.1MB/s eta 0:00:01\r\u001b[K     |███████▋                        | 522kB 8.1MB/s eta 0:00:01\r\u001b[K     |███████▊                        | 532kB 8.1MB/s eta 0:00:01\r\u001b[K     |████████                        | 542kB 8.1MB/s eta 0:00:01\r\u001b[K     |████████                        | 552kB 8.1MB/s eta 0:00:01\r\u001b[K     |████████▎                       | 563kB 8.1MB/s eta 0:00:01\r\u001b[K     |████████▍                       | 573kB 8.1MB/s eta 0:00:01\r\u001b[K     |████████▌                       | 583kB 8.1MB/s eta 0:00:01\r\u001b[K     |████████▊                       | 593kB 8.1MB/s eta 0:00:01\r\u001b[K     |████████▉                       | 604kB 8.1MB/s eta 0:00:01\r\u001b[K     |█████████                       | 614kB 8.1MB/s eta 0:00:01\r\u001b[K     |█████████▏                      | 624kB 8.1MB/s eta 0:00:01\r\u001b[K     |█████████▎                      | 634kB 8.1MB/s eta 0:00:01\r\u001b[K     |█████████▍                      | 645kB 8.1MB/s eta 0:00:01\r\u001b[K     |█████████▋                      | 655kB 8.1MB/s eta 0:00:01\r\u001b[K     |█████████▊                      | 665kB 8.1MB/s eta 0:00:01\r\u001b[K     |█████████▉                      | 675kB 8.1MB/s eta 0:00:01\r\u001b[K     |██████████                      | 686kB 8.1MB/s eta 0:00:01\r\u001b[K     |██████████▏                     | 696kB 8.1MB/s eta 0:00:01\r\u001b[K     |██████████▎                     | 706kB 8.1MB/s eta 0:00:01\r\u001b[K     |██████████▌                     | 716kB 8.1MB/s eta 0:00:01\r\u001b[K     |██████████▋                     | 727kB 8.1MB/s eta 0:00:01\r\u001b[K     |██████████▊                     | 737kB 8.1MB/s eta 0:00:01\r\u001b[K     |███████████                     | 747kB 8.1MB/s eta 0:00:01\r\u001b[K     |███████████                     | 757kB 8.1MB/s eta 0:00:01\r\u001b[K     |███████████▏                    | 768kB 8.1MB/s eta 0:00:01\r\u001b[K     |███████████▍                    | 778kB 8.1MB/s eta 0:00:01\r\u001b[K     |███████████▌                    | 788kB 8.1MB/s eta 0:00:01\r\u001b[K     |███████████▋                    | 798kB 8.1MB/s eta 0:00:01\r\u001b[K     |███████████▉                    | 808kB 8.1MB/s eta 0:00:01\r\u001b[K     |████████████                    | 819kB 8.1MB/s eta 0:00:01\r\u001b[K     |████████████▏                   | 829kB 8.1MB/s eta 0:00:01\r\u001b[K     |████████████▎                   | 839kB 8.1MB/s eta 0:00:01\r\u001b[K     |████████████▍                   | 849kB 8.1MB/s eta 0:00:01\r\u001b[K     |████████████▋                   | 860kB 8.1MB/s eta 0:00:01\r\u001b[K     |████████████▊                   | 870kB 8.1MB/s eta 0:00:01\r\u001b[K     |████████████▉                   | 880kB 8.1MB/s eta 0:00:01\r\u001b[K     |█████████████                   | 890kB 8.1MB/s eta 0:00:01\r\u001b[K     |█████████████▏                  | 901kB 8.1MB/s eta 0:00:01\r\u001b[K     |█████████████▎                  | 911kB 8.1MB/s eta 0:00:01\r\u001b[K     |█████████████▌                  | 921kB 8.1MB/s eta 0:00:01\r\u001b[K     |█████████████▋                  | 931kB 8.1MB/s eta 0:00:01\r\u001b[K     |█████████████▊                  | 942kB 8.1MB/s eta 0:00:01\r\u001b[K     |██████████████                  | 952kB 8.1MB/s eta 0:00:01\r\u001b[K     |██████████████                  | 962kB 8.1MB/s eta 0:00:01\r\u001b[K     |██████████████▏                 | 972kB 8.1MB/s eta 0:00:01\r\u001b[K     |██████████████▍                 | 983kB 8.1MB/s eta 0:00:01\r\u001b[K     |██████████████▌                 | 993kB 8.1MB/s eta 0:00:01\r\u001b[K     |██████████████▋                 | 1.0MB 8.1MB/s eta 0:00:01\r\u001b[K     |██████████████▉                 | 1.0MB 8.1MB/s eta 0:00:01\r\u001b[K     |███████████████                 | 1.0MB 8.1MB/s eta 0:00:01\r\u001b[K     |███████████████                 | 1.0MB 8.1MB/s eta 0:00:01\r\u001b[K     |███████████████▎                | 1.0MB 8.1MB/s eta 0:00:01\r\u001b[K     |███████████████▍                | 1.1MB 8.1MB/s eta 0:00:01\r\u001b[K     |███████████████▌                | 1.1MB 8.1MB/s eta 0:00:01\r\u001b[K     |███████████████▊                | 1.1MB 8.1MB/s eta 0:00:01\r\u001b[K     |███████████████▉                | 1.1MB 8.1MB/s eta 0:00:01\r\u001b[K     |████████████████                | 1.1MB 8.1MB/s eta 0:00:01\r\u001b[K     |████████████████▏               | 1.1MB 8.1MB/s eta 0:00:01\r\u001b[K     |████████████████▎               | 1.1MB 8.1MB/s eta 0:00:01\r\u001b[K     |████████████████▌               | 1.1MB 8.1MB/s eta 0:00:01\r\u001b[K     |████████████████▋               | 1.1MB 8.1MB/s eta 0:00:01\r\u001b[K     |████████████████▊               | 1.1MB 8.1MB/s eta 0:00:01\r\u001b[K     |█████████████████               | 1.2MB 8.1MB/s eta 0:00:01\r\u001b[K     |█████████████████               | 1.2MB 8.1MB/s eta 0:00:01\r\u001b[K     |█████████████████▏              | 1.2MB 8.1MB/s eta 0:00:01\r\u001b[K     |█████████████████▍              | 1.2MB 8.1MB/s eta 0:00:01\r\u001b[K     |█████████████████▌              | 1.2MB 8.1MB/s eta 0:00:01\r\u001b[K     |█████████████████▋              | 1.2MB 8.1MB/s eta 0:00:01\r\u001b[K     |█████████████████▉              | 1.2MB 8.1MB/s eta 0:00:01\r\u001b[K     |██████████████████              | 1.2MB 8.1MB/s eta 0:00:01\r\u001b[K     |██████████████████              | 1.2MB 8.1MB/s eta 0:00:01\r\u001b[K     |██████████████████▎             | 1.2MB 8.1MB/s eta 0:00:01\r\u001b[K     |██████████████████▍             | 1.3MB 8.1MB/s eta 0:00:01\r\u001b[K     |██████████████████▌             | 1.3MB 8.1MB/s eta 0:00:01\r\u001b[K     |██████████████████▊             | 1.3MB 8.1MB/s eta 0:00:01\r\u001b[K     |██████████████████▉             | 1.3MB 8.1MB/s eta 0:00:01\r\u001b[K     |███████████████████             | 1.3MB 8.1MB/s eta 0:00:01\r\u001b[K     |███████████████████▏            | 1.3MB 8.1MB/s eta 0:00:01\r\u001b[K     |███████████████████▎            | 1.3MB 8.1MB/s eta 0:00:01\r\u001b[K     |███████████████████▍            | 1.3MB 8.1MB/s eta 0:00:01\r\u001b[K     |███████████████████▋            | 1.3MB 8.1MB/s eta 0:00:01\r\u001b[K     |███████████████████▊            | 1.4MB 8.1MB/s eta 0:00:01\r\u001b[K     |███████████████████▉            | 1.4MB 8.1MB/s eta 0:00:01\r\u001b[K     |████████████████████            | 1.4MB 8.1MB/s eta 0:00:01\r\u001b[K     |████████████████████▏           | 1.4MB 8.1MB/s eta 0:00:01\r\u001b[K     |████████████████████▍           | 1.4MB 8.1MB/s eta 0:00:01\r\u001b[K     |████████████████████▌           | 1.4MB 8.1MB/s eta 0:00:01\r\u001b[K     |████████████████████▋           | 1.4MB 8.1MB/s eta 0:00:01\r\u001b[K     |████████████████████▉           | 1.4MB 8.1MB/s eta 0:00:01\r\u001b[K     |█████████████████████           | 1.4MB 8.1MB/s eta 0:00:01\r\u001b[K     |█████████████████████           | 1.4MB 8.1MB/s eta 0:00:01\r\u001b[K     |█████████████████████▎          | 1.5MB 8.1MB/s eta 0:00:01\r\u001b[K     |█████████████████████▍          | 1.5MB 8.1MB/s eta 0:00:01\r\u001b[K     |█████████████████████▌          | 1.5MB 8.1MB/s eta 0:00:01\r\u001b[K     |█████████████████████▊          | 1.5MB 8.1MB/s eta 0:00:01\r\u001b[K     |█████████████████████▉          | 1.5MB 8.1MB/s eta 0:00:01\r\u001b[K     |██████████████████████          | 1.5MB 8.1MB/s eta 0:00:01\r\u001b[K     |██████████████████████▏         | 1.5MB 8.1MB/s eta 0:00:01\r\u001b[K     |██████████████████████▎         | 1.5MB 8.1MB/s eta 0:00:01\r\u001b[K     |██████████████████████▍         | 1.5MB 8.1MB/s eta 0:00:01\r\u001b[K     |██████████████████████▋         | 1.5MB 8.1MB/s eta 0:00:01\r\u001b[K     |██████████████████████▊         | 1.6MB 8.1MB/s eta 0:00:01\r\u001b[K     |██████████████████████▉         | 1.6MB 8.1MB/s eta 0:00:01\r\u001b[K     |███████████████████████         | 1.6MB 8.1MB/s eta 0:00:01\r\u001b[K     |███████████████████████▏        | 1.6MB 8.1MB/s eta 0:00:01\r\u001b[K     |███████████████████████▎        | 1.6MB 8.1MB/s eta 0:00:01\r\u001b[K     |███████████████████████▌        | 1.6MB 8.1MB/s eta 0:00:01\r\u001b[K     |███████████████████████▋        | 1.6MB 8.1MB/s eta 0:00:01\r\u001b[K     |███████████████████████▊        | 1.6MB 8.1MB/s eta 0:00:01\r\u001b[K     |████████████████████████        | 1.6MB 8.1MB/s eta 0:00:01\r\u001b[K     |████████████████████████        | 1.6MB 8.1MB/s eta 0:00:01\r\u001b[K     |████████████████████████▎       | 1.7MB 8.1MB/s eta 0:00:01\r\u001b[K     |████████████████████████▍       | 1.7MB 8.1MB/s eta 0:00:01\r\u001b[K     |████████████████████████▌       | 1.7MB 8.1MB/s eta 0:00:01\r\u001b[K     |████████████████████████▊       | 1.7MB 8.1MB/s eta 0:00:01\r\u001b[K     |████████████████████████▉       | 1.7MB 8.1MB/s eta 0:00:01\r\u001b[K     |█████████████████████████       | 1.7MB 8.1MB/s eta 0:00:01\r\u001b[K     |█████████████████████████▏      | 1.7MB 8.1MB/s eta 0:00:01\r\u001b[K     |█████████████████████████▎      | 1.7MB 8.1MB/s eta 0:00:01\r\u001b[K     |█████████████████████████▍      | 1.7MB 8.1MB/s eta 0:00:01\r\u001b[K     |█████████████████████████▋      | 1.8MB 8.1MB/s eta 0:00:01\r\u001b[K     |█████████████████████████▊      | 1.8MB 8.1MB/s eta 0:00:01\r\u001b[K     |█████████████████████████▉      | 1.8MB 8.1MB/s eta 0:00:01\r\u001b[K     |██████████████████████████      | 1.8MB 8.1MB/s eta 0:00:01\r\u001b[K     |██████████████████████████▏     | 1.8MB 8.1MB/s eta 0:00:01\r\u001b[K     |██████████████████████████▎     | 1.8MB 8.1MB/s eta 0:00:01\r\u001b[K     |██████████████████████████▌     | 1.8MB 8.1MB/s eta 0:00:01\r\u001b[K     |██████████████████████████▋     | 1.8MB 8.1MB/s eta 0:00:01\r\u001b[K     |██████████████████████████▊     | 1.8MB 8.1MB/s eta 0:00:01\r\u001b[K     |███████████████████████████     | 1.8MB 8.1MB/s eta 0:00:01\r\u001b[K     |███████████████████████████     | 1.9MB 8.1MB/s eta 0:00:01\r\u001b[K     |███████████████████████████▏    | 1.9MB 8.1MB/s eta 0:00:01\r\u001b[K     |███████████████████████████▍    | 1.9MB 8.1MB/s eta 0:00:01\r\u001b[K     |███████████████████████████▌    | 1.9MB 8.1MB/s eta 0:00:01\r\u001b[K     |███████████████████████████▋    | 1.9MB 8.1MB/s eta 0:00:01\r\u001b[K     |███████████████████████████▉    | 1.9MB 8.1MB/s eta 0:00:01\r\u001b[K     |████████████████████████████    | 1.9MB 8.1MB/s eta 0:00:01\r\u001b[K     |████████████████████████████    | 1.9MB 8.1MB/s eta 0:00:01\r\u001b[K     |████████████████████████████▎   | 1.9MB 8.1MB/s eta 0:00:01\r\u001b[K     |████████████████████████████▍   | 1.9MB 8.1MB/s eta 0:00:01\r\u001b[K     |████████████████████████████▋   | 2.0MB 8.1MB/s eta 0:00:01\r\u001b[K     |████████████████████████████▊   | 2.0MB 8.1MB/s eta 0:00:01\r\u001b[K     |████████████████████████████▉   | 2.0MB 8.1MB/s eta 0:00:01\r\u001b[K     |█████████████████████████████   | 2.0MB 8.1MB/s eta 0:00:01\r\u001b[K     |█████████████████████████████▏  | 2.0MB 8.1MB/s eta 0:00:01\r\u001b[K     |█████████████████████████████▎  | 2.0MB 8.1MB/s eta 0:00:01\r\u001b[K     |█████████████████████████████▌  | 2.0MB 8.1MB/s eta 0:00:01\r\u001b[K     |█████████████████████████████▋  | 2.0MB 8.1MB/s eta 0:00:01\r\u001b[K     |█████████████████████████████▊  | 2.0MB 8.1MB/s eta 0:00:01\r\u001b[K     |██████████████████████████████  | 2.0MB 8.1MB/s eta 0:00:01\r\u001b[K     |██████████████████████████████  | 2.1MB 8.1MB/s eta 0:00:01\r\u001b[K     |██████████████████████████████▏ | 2.1MB 8.1MB/s eta 0:00:01\r\u001b[K     |██████████████████████████████▍ | 2.1MB 8.1MB/s eta 0:00:01\r\u001b[K     |██████████████████████████████▌ | 2.1MB 8.1MB/s eta 0:00:01\r\u001b[K     |██████████████████████████████▋ | 2.1MB 8.1MB/s eta 0:00:01\r\u001b[K     |██████████████████████████████▉ | 2.1MB 8.1MB/s eta 0:00:01\r\u001b[K     |███████████████████████████████ | 2.1MB 8.1MB/s eta 0:00:01\r\u001b[K     |███████████████████████████████ | 2.1MB 8.1MB/s eta 0:00:01\r\u001b[K     |███████████████████████████████▎| 2.1MB 8.1MB/s eta 0:00:01\r\u001b[K     |███████████████████████████████▍| 2.2MB 8.1MB/s eta 0:00:01\r\u001b[K     |███████████████████████████████▌| 2.2MB 8.1MB/s eta 0:00:01\r\u001b[K     |███████████████████████████████▊| 2.2MB 8.1MB/s eta 0:00:01\r\u001b[K     |███████████████████████████████▉| 2.2MB 8.1MB/s eta 0:00:01\r\u001b[K     |████████████████████████████████| 2.2MB 8.1MB/s eta 0:00:01\r\u001b[K     |████████████████████████████████| 2.2MB 8.1MB/s \n",
            "\u001b[?25hRequirement already satisfied: cycler==0.10.0 in /usr/local/lib/python3.6/dist-packages (from -r requirements.txt (line 2)) (0.10.0)\n",
            "Collecting kiwisolver==1.0.1\n",
            "\u001b[?25l  Downloading https://files.pythonhosted.org/packages/69/a7/88719d132b18300b4369fbffa741841cfd36d1e637e1990f27929945b538/kiwisolver-1.0.1-cp36-cp36m-manylinux1_x86_64.whl (949kB)\n",
            "\u001b[K     |████████████████████████████████| 952kB 64.1MB/s \n",
            "\u001b[?25hCollecting matplotlib==2.2.2\n",
            "\u001b[?25l  Downloading https://files.pythonhosted.org/packages/49/b8/89dbd27f2fb171ce753bb56220d4d4f6dbc5fe32b95d8edc4415782ef07f/matplotlib-2.2.2-cp36-cp36m-manylinux1_x86_64.whl (12.6MB)\n",
            "\u001b[K     |████████████████████████████████| 12.6MB 19.8MB/s \n",
            "\u001b[?25hCollecting numpy==1.14.3\n",
            "\u001b[?25l  Downloading https://files.pythonhosted.org/packages/71/90/ca61e203e0080a8cef7ac21eca199829fa8d997f7c4da3e985b49d0a107d/numpy-1.14.3-cp36-cp36m-manylinux1_x86_64.whl (12.2MB)\n",
            "\u001b[K     |████████████████████████████████| 12.2MB 75.3MB/s \n",
            "\u001b[?25hCollecting pyparsing==2.2.0\n",
            "\u001b[?25l  Downloading https://files.pythonhosted.org/packages/6a/8a/718fd7d3458f9fab8e67186b00abdd345b639976bc7fb3ae722e1b026a50/pyparsing-2.2.0-py2.py3-none-any.whl (56kB)\n",
            "\u001b[K     |████████████████████████████████| 61kB 6.9MB/s \n",
            "\u001b[?25hCollecting python-dateutil==2.7.2\n",
            "\u001b[?25l  Downloading https://files.pythonhosted.org/packages/0c/57/19f3a65bcf6d5be570ee8c35a5398496e10a0ddcbc95393b2d17f86aaaf8/python_dateutil-2.7.2-py2.py3-none-any.whl (212kB)\n",
            "\u001b[K     |████████████████████████████████| 215kB 53.1MB/s \n",
            "\u001b[?25hCollecting pytz==2018.4\n",
            "\u001b[?25l  Downloading https://files.pythonhosted.org/packages/dc/83/15f7833b70d3e067ca91467ca245bae0f6fe56ddc7451aa0dc5606b120f2/pytz-2018.4-py2.py3-none-any.whl (510kB)\n",
            "\u001b[K     |████████████████████████████████| 512kB 63.0MB/s \n",
            "\u001b[?25hCollecting six==1.11.0\n",
            "  Downloading https://files.pythonhosted.org/packages/67/4b/141a581104b1f6397bfa78ac9d43d8ad29a7ca43ea90a2d863fe3056e86a/six-1.11.0-py2.py3-none-any.whl\n",
            "Requirement already satisfied: setuptools in /usr/local/lib/python3.6/dist-packages (from kiwisolver==1.0.1->-r requirements.txt (line 3)) (50.3.0)\n",
            "\u001b[31mERROR: xarray 0.15.1 has requirement numpy>=1.15, but you'll have numpy 1.14.3 which is incompatible.\u001b[0m\n",
            "\u001b[31mERROR: umap-learn 0.4.6 has requirement numpy>=1.17, but you'll have numpy 1.14.3 which is incompatible.\u001b[0m\n",
            "\u001b[31mERROR: tifffile 2020.9.3 has requirement numpy>=1.15.1, but you'll have numpy 1.14.3 which is incompatible.\u001b[0m\n",
            "\u001b[31mERROR: tensorflow 2.3.0 has requirement numpy<1.19.0,>=1.16.0, but you'll have numpy 1.14.3 which is incompatible.\u001b[0m\n",
            "\u001b[31mERROR: tensorflow 2.3.0 has requirement six>=1.12.0, but you'll have six 1.11.0 which is incompatible.\u001b[0m\n",
            "\u001b[31mERROR: tensorflow-hub 0.9.0 has requirement six>=1.12.0, but you'll have six 1.11.0 which is incompatible.\u001b[0m\n",
            "\u001b[31mERROR: spacy 2.2.4 has requirement numpy>=1.15.0, but you'll have numpy 1.14.3 which is incompatible.\u001b[0m\n",
            "\u001b[31mERROR: seaborn 0.11.0 has requirement numpy>=1.15, but you'll have numpy 1.14.3 which is incompatible.\u001b[0m\n",
            "\u001b[31mERROR: plotnine 0.6.0 has requirement matplotlib>=3.1.1, but you'll have matplotlib 2.2.2 which is incompatible.\u001b[0m\n",
            "\u001b[31mERROR: plotnine 0.6.0 has requirement numpy>=1.16.0, but you'll have numpy 1.14.3 which is incompatible.\u001b[0m\n",
            "\u001b[31mERROR: pandas 1.1.2 has requirement numpy>=1.15.4, but you'll have numpy 1.14.3 which is incompatible.\u001b[0m\n",
            "\u001b[31mERROR: pandas 1.1.2 has requirement python-dateutil>=2.7.3, but you'll have python-dateutil 2.7.2 which is incompatible.\u001b[0m\n",
            "\u001b[31mERROR: numba 0.48.0 has requirement numpy>=1.15, but you'll have numpy 1.14.3 which is incompatible.\u001b[0m\n",
            "\u001b[31mERROR: nbclient 0.5.0 has requirement jupyter-client>=6.1.5, but you'll have jupyter-client 5.3.5 which is incompatible.\u001b[0m\n",
            "\u001b[31mERROR: mizani 0.6.0 has requirement matplotlib>=3.1.1, but you'll have matplotlib 2.2.2 which is incompatible.\u001b[0m\n",
            "\u001b[31mERROR: imgaug 0.2.9 has requirement numpy>=1.15.0, but you'll have numpy 1.14.3 which is incompatible.\u001b[0m\n",
            "\u001b[31mERROR: google-colab 1.0.0 has requirement six~=1.15.0, but you'll have six 1.11.0 which is incompatible.\u001b[0m\n",
            "\u001b[31mERROR: fbprophet 0.7.1 has requirement numpy>=1.15.4, but you'll have numpy 1.14.3 which is incompatible.\u001b[0m\n",
            "\u001b[31mERROR: fbprophet 0.7.1 has requirement python-dateutil>=2.8.0, but you'll have python-dateutil 2.7.2 which is incompatible.\u001b[0m\n",
            "\u001b[31mERROR: fastai 1.0.61 has requirement numpy>=1.15, but you'll have numpy 1.14.3 which is incompatible.\u001b[0m\n",
            "\u001b[31mERROR: dm-tree 0.1.5 has requirement six>=1.12.0, but you'll have six 1.11.0 which is incompatible.\u001b[0m\n",
            "\u001b[31mERROR: datascience 0.10.6 has requirement folium==0.2.1, but you'll have folium 0.8.3 which is incompatible.\u001b[0m\n",
            "\u001b[31mERROR: cvxpy 1.0.31 has requirement numpy>=1.15, but you'll have numpy 1.14.3 which is incompatible.\u001b[0m\n",
            "\u001b[31mERROR: blis 0.4.1 has requirement numpy>=1.15.0, but you'll have numpy 1.14.3 which is incompatible.\u001b[0m\n",
            "\u001b[31mERROR: astropy 4.0.1.post1 has requirement numpy>=1.16, but you'll have numpy 1.14.3 which is incompatible.\u001b[0m\n",
            "\u001b[31mERROR: albumentations 0.1.12 has requirement imgaug<0.2.7,>=0.2.5, but you'll have imgaug 0.2.9 which is incompatible.\u001b[0m\n",
            "Installing collected packages: Pillow, kiwisolver, numpy, six, python-dateutil, pyparsing, pytz, matplotlib\n",
            "  Found existing installation: Pillow 7.0.0\n",
            "    Uninstalling Pillow-7.0.0:\n",
            "      Successfully uninstalled Pillow-7.0.0\n",
            "  Found existing installation: kiwisolver 1.2.0\n",
            "    Uninstalling kiwisolver-1.2.0:\n",
            "      Successfully uninstalled kiwisolver-1.2.0\n",
            "  Found existing installation: numpy 1.18.5\n",
            "    Uninstalling numpy-1.18.5:\n",
            "      Successfully uninstalled numpy-1.18.5\n",
            "  Found existing installation: six 1.15.0\n",
            "    Uninstalling six-1.15.0:\n",
            "      Successfully uninstalled six-1.15.0\n",
            "  Found existing installation: python-dateutil 2.8.1\n",
            "    Uninstalling python-dateutil-2.8.1:\n",
            "      Successfully uninstalled python-dateutil-2.8.1\n",
            "  Found existing installation: pyparsing 2.4.7\n",
            "    Uninstalling pyparsing-2.4.7:\n",
            "      Successfully uninstalled pyparsing-2.4.7\n",
            "  Found existing installation: pytz 2018.9\n",
            "    Uninstalling pytz-2018.9:\n",
            "      Successfully uninstalled pytz-2018.9\n",
            "  Found existing installation: matplotlib 3.2.2\n",
            "    Uninstalling matplotlib-3.2.2:\n",
            "      Successfully uninstalled matplotlib-3.2.2\n",
            "Successfully installed Pillow-7.2.0 kiwisolver-1.0.1 matplotlib-2.2.2 numpy-1.14.3 pyparsing-2.2.0 python-dateutil-2.7.2 pytz-2018.4 six-1.11.0\n"
          ],
          "name": "stdout"
        },
        {
          "output_type": "display_data",
          "data": {
            "application/vnd.colab-display-data+json": {
              "pip_warning": {
                "packages": [
                  "PIL",
                  "dateutil",
                  "kiwisolver",
                  "matplotlib",
                  "mpl_toolkits",
                  "numpy",
                  "pyparsing",
                  "pytz",
                  "six"
                ]
              }
            }
          },
          "metadata": {
            "tags": []
          }
        }
      ]
    },
    {
      "cell_type": "markdown",
      "metadata": {
        "id": "Gh4amiTb0_5w"
      },
      "source": [
        "## Instruction\n",
        "\n",
        "*   output directory will contain yolo formatted txt files\n",
        "*   label directory will contain voc xml files\n",
        "*   img directory will contain jpg files\n",
        "*   workspace directory will contain voc.names files\n",
        "\n"
      ]
    },
    {
      "cell_type": "code",
      "metadata": {
        "id": "kk9nJ1BysaQj"
      },
      "source": [
        "!mkdir /content/workspace\n",
        "!mkdir /content/output\n",
        "!mkdir /content/label\n",
        "!mkdir /content/img"
      ],
      "execution_count": 1,
      "outputs": []
    },
    {
      "cell_type": "code",
      "metadata": {
        "id": "iyqBc-4R0t9o"
      },
      "source": [
        "!echo -e \"cat\\ndog\\nbird\" > \"/content/workspace/voc.names\""
      ],
      "execution_count": 18,
      "outputs": []
    },
    {
      "cell_type": "code",
      "metadata": {
        "id": "qH0Lc2Bos_8U",
        "outputId": "f472b253-280e-418c-d048-9d6042f6718e",
        "colab": {
          "base_uri": "https://localhost:8080/",
          "height": 168
        }
      },
      "source": [
        "!python example.py --datasets VOC --img_path \"/content/img\" --label \"/content/label\" --convert_output_path \"/content/output\" --img_type \".jpg\" --manifest_path ./ --cls_list_file \"/content/workspace/voc.names\""
      ],
      "execution_count": null,
      "outputs": [
        {
          "output_type": "stream",
          "text": [
            "\r\n",
            "VOC Parsing:  |----------------------------------------| 0.0% (0/1)  Complete\r\rVOC Parsing:   |████████████████████████████████████████| 100.0% (1/1)  Complete\r\n",
            "\n",
            "\r\n",
            "YOLO Generating:|----------------------------------------| 0.0% (0/1)  Complete\r\rYOLO Generating:|████████████████████████████████████████| 100.0% (1/1)  Complete\r\n",
            "\n",
            "\r\n",
            "YOLO Saving:  |----------------------------------------| 0.0% (0/1)  Complete\r\rYOLO Saving:   |████████████████████████████████████████| 100.0% (1/1)  Complete\r\n",
            "\n"
          ],
          "name": "stdout"
        }
      ]
    },
    {
      "cell_type": "markdown",
      "metadata": {
        "id": "6wrdhGwo97Vc"
      },
      "source": [
        "## Conversion with demo image and label"
      ]
    },
    {
      "cell_type": "code",
      "metadata": {
        "id": "lCQxIKmD-GIR",
        "outputId": "10eaa524-cb0e-43c3-e5d5-67c284d321e3",
        "colab": {
          "base_uri": "https://localhost:8080/",
          "height": 168
        }
      },
      "source": [
        "!python example.py --datasets VOC --img_path \"/content/convert2Yolo/example/voc/JPEG\" --label \"/content/convert2Yolo/example/voc/label\" --convert_output_path \"/content/output\" --img_type \".jpg\" --manifest_path ./ --cls_list_file \"/content/convert2Yolo/example/voc/names.txt\""
      ],
      "execution_count": 21,
      "outputs": [
        {
          "output_type": "stream",
          "text": [
            "\r\n",
            "VOC Parsing:  |----------------------------------------| 0.0% (0/1)  Complete\r\rVOC Parsing:   |████████████████████████████████████████| 100.0% (1/1)  Complete\r\n",
            "\n",
            "\r\n",
            "YOLO Generating:|----------------------------------------| 0.0% (0/1)  Complete\r\rYOLO Generating:|████████████████████████████████████████| 100.0% (1/1)  Complete\r\n",
            "\n",
            "\r\n",
            "YOLO Saving:  |----------------------------------------| 0.0% (0/1)  Complete\r\rYOLO Saving:   |████████████████████████████████████████| 100.0% (1/1)  Complete\r\n",
            "\n"
          ],
          "name": "stdout"
        }
      ]
    },
    {
      "cell_type": "code",
      "metadata": {
        "id": "M4h4If706_sk"
      },
      "source": [
        ""
      ],
      "execution_count": null,
      "outputs": []
    }
  ]
}